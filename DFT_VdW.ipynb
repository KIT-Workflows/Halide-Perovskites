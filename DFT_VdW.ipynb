{
  "nbformat": 4,
  "nbformat_minor": 0,
  "metadata": {
    "colab": {
      "provenance": []
    },
    "kernelspec": {
      "name": "python3",
      "display_name": "Python 3"
    },
    "language_info": {
      "name": "python"
    }
  },
  "cells": [
    {
      "cell_type": "markdown",
      "source": [
        "# Colab Notebook for Vdw Digitalization"
      ],
      "metadata": {
        "id": "0vihRPFdbWIy"
      }
    },
    {
      "cell_type": "code",
      "source": [
        "# Install necessary libraries\n",
        "%%capture\n",
        "!pip install ase"
      ],
      "metadata": {
        "id": "Aee0InsquxJF"
      },
      "execution_count": null,
      "outputs": []
    },
    {
      "cell_type": "code",
      "source": [
        "# Download the entire repository as a ZIP file\n",
        "!wget -q https://github.com/KIT-Workflows/Halide-Perovskites/archive/refs/heads/main.zip -O repo.zip\n",
        "\n",
        "# Unzip the file\n",
        "!unzip -q repo.zip\n",
        "\n",
        "# Move the `input_data` folder to the working directory\n",
        "!mv Halide-Perovskites-main/input_data .\n",
        "\n",
        "# Clean up by removing the unnecessary files\n",
        "!rm -rf repo.zip Halide-Perovskites-main\n",
        "\n",
        "# Verify that the input_data folder has been loaded\n",
        "!ls input_data\n"
      ],
      "metadata": {
        "colab": {
          "base_uri": "https://localhost:8080/"
        },
        "id": "zf1xydbZzOLk",
        "outputId": "d5b21dbf-021b-40ce-fc1d-954fb0f91d17"
      },
      "execution_count": null,
      "outputs": [
        {
          "output_type": "stream",
          "name": "stdout",
          "text": [
            "CH3XH3PbI3  XH4PbI3\n"
          ]
        }
      ]
    },
    {
      "cell_type": "code",
      "source": [
        "# Importing required libraries\n",
        "import numpy as np\n",
        "from ase.io import read\n",
        "\n",
        "# Function to calculate the octahedral distortion index\n",
        "def calculate_octahedral_distortion(poscar_path, center_atom, surrounding_atoms):\n",
        "    \"\"\"\n",
        "    Calculate the octahedral distortion index (Di) from a POSCAR file.\n",
        "\n",
        "    Parameters:\n",
        "    - poscar_path: Path to the POSCAR file.\n",
        "    - center_atom: Index of the central atom in the octahedron (0-based).\n",
        "    - surrounding_atoms: List of indices of the six surrounding atoms forming the octahedron (0-based).\n",
        "\n",
        "    Returns:\n",
        "    - distortion_index: The calculated octahedral distortion index (Di).\n",
        "    \"\"\"\n",
        "    structure = read(poscar_path, format='vasp')  # Read POSCAR file using ASE\n",
        "    center_position = structure[center_atom].position  # Position of the central atom\n",
        "    bond_lengths = []\n",
        "\n",
        "    # Calculate bond lengths\n",
        "    for atom_index in surrounding_atoms:\n",
        "        surrounding_position = structure[atom_index].position\n",
        "        bond_length = np.linalg.norm(center_position - surrounding_position)\n",
        "        bond_lengths.append(bond_length)\n",
        "\n",
        "    # Compute average bond length\n",
        "    avg_bond_length = np.mean(bond_lengths)\n",
        "\n",
        "    # Calculate the distortion index (Di)\n",
        "    distortion_index = (1 / len(surrounding_atoms)) * np.sum(\n",
        "        [abs(b - avg_bond_length) / avg_bond_length for b in bond_lengths]\n",
        "    )\n",
        "    return distortion_index, bond_lengths\n",
        "\n",
        "# Example usage\n",
        "poscar_path = \"/content/POSCAR\"  # Replace with your POSCAR file path\n",
        "center_atom = 0  # Replace with the index of the central atom (0-based)\n",
        "surrounding_atoms = [1, 2, 3, 4, 5, 6]  # Replace with indices of surrounding atoms (0-based)\n",
        "\n",
        "# Compute the octahedral distortion index\n",
        "distortion_index, bond_lengths = calculate_octahedral_distortion(poscar_path, center_atom, surrounding_atoms)\n",
        "\n",
        "# Output results\n",
        "print(f\"Bond Lengths: {bond_lengths}\")\n",
        "print(f\"Octahedral Distortion Index (Di): {distortion_index}\")\n"
      ],
      "metadata": {
        "colab": {
          "base_uri": "https://localhost:8080/"
        },
        "id": "AJHsaqWXuknh",
        "outputId": "99245b37-9db6-4c40-f217-3bc66541c09a"
      },
      "execution_count": null,
      "outputs": [
        {
          "output_type": "stream",
          "name": "stdout",
          "text": [
            "Bond Lengths: [4.942088587729535, 7.100325387475087, 5.3867347179601115, 1.6923302236020137, 5.357705584375704, 4.633097493908482]\n",
            "Octahedral Distortion Index (Di): 0.2321127750421067\n"
          ]
        }
      ]
    },
    {
      "cell_type": "code",
      "execution_count": null,
      "metadata": {
        "id": "NA1DNaLBbMhZ"
      },
      "outputs": [],
      "source": [
        "import yaml\n",
        "import matplotlib.pyplot as plt"
      ]
    },
    {
      "cell_type": "markdown",
      "source": [
        "# Read data from Simstack Generated Files"
      ],
      "metadata": {
        "id": "VR1vdNmZb1q5"
      }
    },
    {
      "cell_type": "code",
      "source": [
        "with open('/content/vdw_inputs.yml') as file:\n",
        "  vdw_inputs = yaml.full_load(file)"
      ],
      "metadata": {
        "id": "GiC1joRncG3p"
      },
      "execution_count": null,
      "outputs": []
    },
    {
      "cell_type": "markdown",
      "source": [
        "# Properties to plot"
      ],
      "metadata": {
        "id": "KZTyNhpJc7F2"
      }
    },
    {
      "cell_type": "markdown",
      "source": [
        "DFT - 1/2: CUT optimization"
      ],
      "metadata": {
        "id": "0fH46MeJnQ-T"
      }
    },
    {
      "cell_type": "code",
      "source": [
        "compd = \"MAPbI3\" #Compound to plot\n",
        "gaps = vdw_inputs['gap_energy'][compd] #gap energies\n",
        "cuts = vdw_inputs['cut_dft_half'][compd] #cuts from dft-1/2 optimization\n",
        "\n",
        "# Plot of the properties\n",
        "fig=plt.figure(figsize=(6,5), dpi= 100, facecolor='w', edgecolor='k')\n",
        "plt.plot(cuts, gaps, 'purple', label=compd)\n",
        "plt.xlabel(r'CUT ($a_0$)', style='italic')\n",
        "plt.ylabel(r'Gap Energy, $E_g$ (eV)')\n",
        "plt.legend()\n",
        "\n",
        "plt.show()\n"
      ],
      "metadata": {
        "id": "GjBMrKs1dC7M"
      },
      "execution_count": null,
      "outputs": []
    },
    {
      "cell_type": "markdown",
      "source": [
        "Formation enthapy"
      ],
      "metadata": {
        "id": "ryXIYPYgor3v"
      }
    },
    {
      "cell_type": "code",
      "source": [
        "route=\"A\" #Choose the route to plot formation enthapies\n",
        "enthalpy = vdw_inputs['enthalpy'][route] #formation enthapies\n",
        "atoms = vdw_inputs['a_atoms'] #atoms to plot\n",
        "\n",
        "# Plot of the properties\n",
        "fig=plt.figure(figsize=(6,5), dpi= 100, facecolor='w', edgecolor='k')\n",
        "lab = \"Route \" + route\n",
        "plt.plot(atoms, enthalpy, 'purple', label=lab)\n",
        "plt.ylabel(r'$\\Delta_\\mathrm{f}H$ (meV/atom)')\n",
        "plt.legend()\n",
        "\n",
        "plt.show()"
      ],
      "metadata": {
        "id": "IWNRO3WltKWf"
      },
      "execution_count": null,
      "outputs": []
    },
    {
      "cell_type": "markdown",
      "source": [
        "Dispersion Energy"
      ],
      "metadata": {
        "id": "W3VNNvRrve39"
      }
    },
    {
      "cell_type": "code",
      "source": [
        "#Plot using Individual protocols\n",
        "protocol=\"D2\" #Choose the route to plot formation enthapies\n",
        "Edisp = vdw_inputs['edisp'][protocol] #formation enthapies\n",
        "atoms = vdw_inputs['a_atoms'] #atoms to plot\n",
        "\n",
        "# Plot of the properties\n",
        "fig=plt.figure(figsize=(6,5), dpi= 100, facecolor='w', edgecolor='k')\n",
        "lab = \"Route \" + route\n",
        "plt.plot(atoms, Edisp, 'purple', label=lab)\n",
        "plt.ylabel(r'$E_\\mathrm{disp}$ (eV)')\n",
        "plt.legend()\n",
        "\n",
        "plt.show()"
      ],
      "metadata": {
        "id": "ADQKuXiCvgYo"
      },
      "execution_count": null,
      "outputs": []
    },
    {
      "cell_type": "markdown",
      "source": [
        "Choose other properties to plot according to yml file"
      ],
      "metadata": {
        "id": "jPGsz6rdwol9"
      }
    },
    {
      "cell_type": "code",
      "source": [
        "#Plot using Individual protocols\n",
        "properties = \"Name of property\"\n",
        "y_graph = vdw_inputs[properties]['y'] #y label\n",
        "x_graph = vdw_inputs[properties]['x'] #x label\n",
        "\n",
        "# Plot of the properties\n",
        "fig=plt.figure(figsize=(6,5), dpi= 100, facecolor='w', edgecolor='k')\n",
        "plt.plot(x_graph, y_graph, 'purple', label=lab)\n",
        "plt.ylabel(r'ylabel (unit)') #Inserte here y label\n",
        "plt.ylabel(r'xlabel (unit)') #Inserte here x label\n",
        "plt.legend()\n",
        "\n",
        "plt.show()"
      ],
      "metadata": {
        "id": "qZQqs4QWwtQ_"
      },
      "execution_count": null,
      "outputs": []
    }
  ]
}