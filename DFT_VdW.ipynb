{
  "nbformat": 4,
  "nbformat_minor": 0,
  "metadata": {
    "colab": {
      "provenance": []
    },
    "kernelspec": {
      "name": "python3",
      "display_name": "Python 3"
    },
    "language_info": {
      "name": "python"
    }
  },
  "cells": [
    {
      "cell_type": "markdown",
      "source": [
        "# Colab Notebook for Vdw Digitalization"
      ],
      "metadata": {
        "id": "0vihRPFdbWIy"
      }
    },
    {
      "cell_type": "code",
      "execution_count": 33,
      "metadata": {
        "id": "NA1DNaLBbMhZ"
      },
      "outputs": [],
      "source": [
        "import yaml\n",
        "import matplotlib.pyplot as plt"
      ]
    },
    {
      "cell_type": "markdown",
      "source": [
        "# Read data from Simstack Generated Files"
      ],
      "metadata": {
        "id": "VR1vdNmZb1q5"
      }
    },
    {
      "cell_type": "code",
      "source": [
        "with open('/content/vdw_inputs.yml') as file:\n",
        "  vdw_inputs = yaml.full_load(file)"
      ],
      "metadata": {
        "id": "GiC1joRncG3p"
      },
      "execution_count": 17,
      "outputs": []
    },
    {
      "cell_type": "markdown",
      "source": [
        "# Properties to plot"
      ],
      "metadata": {
        "id": "KZTyNhpJc7F2"
      }
    },
    {
      "cell_type": "markdown",
      "source": [
        "DFT - 1/2: CUT optimization"
      ],
      "metadata": {
        "id": "0fH46MeJnQ-T"
      }
    },
    {
      "cell_type": "code",
      "source": [
        "compd = \"MAPbI3\" #Compound to plot\n",
        "gaps = vdw_inputs['gap_energy'][compd] #gap energies\n",
        "cuts = vdw_inputs['cut_dft_half'][compd] #cuts from dft-1/2 optimization\n",
        "\n",
        "# Plot of the properties\n",
        "fig=plt.figure(figsize=(6,5), dpi= 100, facecolor='w', edgecolor='k')\n",
        "plt.plot(cuts, gaps, 'purple', label=compd)\n",
        "plt.xlabel(r'CUT ($a_0$)', style='italic')\n",
        "plt.ylabel(r'Gap Energy, $E_g$ (eV)')\n",
        "plt.legend()\n",
        "\n",
        "plt.show()\n"
      ],
      "metadata": {
        "id": "GjBMrKs1dC7M"
      },
      "execution_count": null,
      "outputs": []
    },
    {
      "cell_type": "markdown",
      "source": [
        "Formation enthapy"
      ],
      "metadata": {
        "id": "ryXIYPYgor3v"
      }
    },
    {
      "cell_type": "code",
      "source": [
        "route=\"A\" #Choose the route to plot formation enthapies\n",
        "enthalpy = vdw_inputs['enthalpy'][route] #formation enthapies\n",
        "atoms = vdw_inputs['a_atoms'] #atoms to plot\n",
        "\n",
        "# Plot of the properties\n",
        "fig=plt.figure(figsize=(6,5), dpi= 100, facecolor='w', edgecolor='k')\n",
        "lab = \"Route \" + route\n",
        "plt.plot(atoms, enthalpy, 'purple', label=lab)\n",
        "plt.ylabel(r'$\\Delta_\\mathrm{f}H$ (meV/atom)')\n",
        "plt.legend()\n",
        "\n",
        "plt.show()"
      ],
      "metadata": {
        "id": "IWNRO3WltKWf"
      },
      "execution_count": null,
      "outputs": []
    },
    {
      "cell_type": "markdown",
      "source": [
        "Dispersion Energy"
      ],
      "metadata": {
        "id": "W3VNNvRrve39"
      }
    },
    {
      "cell_type": "code",
      "source": [
        "#Plot using Individual protocols\n",
        "protocol=\"D2\" #Choose the route to plot formation enthapies\n",
        "Edisp = vdw_inputs['edisp'][protocol] #formation enthapies\n",
        "atoms = vdw_inputs['a_atoms'] #atoms to plot\n",
        "\n",
        "# Plot of the properties\n",
        "fig=plt.figure(figsize=(6,5), dpi= 100, facecolor='w', edgecolor='k')\n",
        "lab = \"Route \" + route\n",
        "plt.plot(atoms, Edisp, 'purple', label=lab)\n",
        "plt.ylabel(r'$E_\\mathrm{disp}$ (eV)')\n",
        "plt.legend()\n",
        "\n",
        "plt.show()"
      ],
      "metadata": {
        "id": "ADQKuXiCvgYo"
      },
      "execution_count": null,
      "outputs": []
    },
    {
      "cell_type": "markdown",
      "source": [
        "Choose other properties to plot according to yml file"
      ],
      "metadata": {
        "id": "jPGsz6rdwol9"
      }
    },
    {
      "cell_type": "code",
      "source": [
        "#Plot using Individual protocols\n",
        "properties = \"Name of property\"\n",
        "y_graph = vdw_inputs[properties]['y'] #y label\n",
        "x_graph = vdw_inputs[properties]['x'] #x label\n",
        "\n",
        "# Plot of the properties\n",
        "fig=plt.figure(figsize=(6,5), dpi= 100, facecolor='w', edgecolor='k')\n",
        "plt.plot(x_graph, y_graph, 'purple', label=lab)\n",
        "plt.ylabel(r'ylabel (unit)') #Inserte here y label\n",
        "plt.ylabel(r'xlabel (unit)') #Inserte here x label\n",
        "plt.legend()\n",
        "\n",
        "plt.show()"
      ],
      "metadata": {
        "id": "qZQqs4QWwtQ_"
      },
      "execution_count": null,
      "outputs": []
    }
  ]
}